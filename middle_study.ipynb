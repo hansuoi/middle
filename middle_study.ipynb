{
 "cells": [
  {
   "cell_type": "code",
   "execution_count": 1,
   "metadata": {},
   "outputs": [
    {
     "name": "stderr",
     "output_type": "stream",
     "text": [
      "C:\\ProgramData\\Anaconda3\\lib\\site-packages\\tensorflow\\python\\framework\\dtypes.py:516: FutureWarning: Passing (type, 1) or '1type' as a synonym of type is deprecated; in a future version of numpy, it will be understood as (type, (1,)) / '(1,)type'.\n",
      "  _np_qint8 = np.dtype([(\"qint8\", np.int8, 1)])\n",
      "C:\\ProgramData\\Anaconda3\\lib\\site-packages\\tensorflow\\python\\framework\\dtypes.py:517: FutureWarning: Passing (type, 1) or '1type' as a synonym of type is deprecated; in a future version of numpy, it will be understood as (type, (1,)) / '(1,)type'.\n",
      "  _np_quint8 = np.dtype([(\"quint8\", np.uint8, 1)])\n",
      "C:\\ProgramData\\Anaconda3\\lib\\site-packages\\tensorflow\\python\\framework\\dtypes.py:518: FutureWarning: Passing (type, 1) or '1type' as a synonym of type is deprecated; in a future version of numpy, it will be understood as (type, (1,)) / '(1,)type'.\n",
      "  _np_qint16 = np.dtype([(\"qint16\", np.int16, 1)])\n",
      "C:\\ProgramData\\Anaconda3\\lib\\site-packages\\tensorflow\\python\\framework\\dtypes.py:519: FutureWarning: Passing (type, 1) or '1type' as a synonym of type is deprecated; in a future version of numpy, it will be understood as (type, (1,)) / '(1,)type'.\n",
      "  _np_quint16 = np.dtype([(\"quint16\", np.uint16, 1)])\n",
      "C:\\ProgramData\\Anaconda3\\lib\\site-packages\\tensorflow\\python\\framework\\dtypes.py:520: FutureWarning: Passing (type, 1) or '1type' as a synonym of type is deprecated; in a future version of numpy, it will be understood as (type, (1,)) / '(1,)type'.\n",
      "  _np_qint32 = np.dtype([(\"qint32\", np.int32, 1)])\n",
      "C:\\ProgramData\\Anaconda3\\lib\\site-packages\\tensorflow\\python\\framework\\dtypes.py:525: FutureWarning: Passing (type, 1) or '1type' as a synonym of type is deprecated; in a future version of numpy, it will be understood as (type, (1,)) / '(1,)type'.\n",
      "  np_resource = np.dtype([(\"resource\", np.ubyte, 1)])\n",
      "C:\\ProgramData\\Anaconda3\\lib\\site-packages\\tensorboard\\compat\\tensorflow_stub\\dtypes.py:541: FutureWarning: Passing (type, 1) or '1type' as a synonym of type is deprecated; in a future version of numpy, it will be understood as (type, (1,)) / '(1,)type'.\n",
      "  _np_qint8 = np.dtype([(\"qint8\", np.int8, 1)])\n",
      "C:\\ProgramData\\Anaconda3\\lib\\site-packages\\tensorboard\\compat\\tensorflow_stub\\dtypes.py:542: FutureWarning: Passing (type, 1) or '1type' as a synonym of type is deprecated; in a future version of numpy, it will be understood as (type, (1,)) / '(1,)type'.\n",
      "  _np_quint8 = np.dtype([(\"quint8\", np.uint8, 1)])\n",
      "C:\\ProgramData\\Anaconda3\\lib\\site-packages\\tensorboard\\compat\\tensorflow_stub\\dtypes.py:543: FutureWarning: Passing (type, 1) or '1type' as a synonym of type is deprecated; in a future version of numpy, it will be understood as (type, (1,)) / '(1,)type'.\n",
      "  _np_qint16 = np.dtype([(\"qint16\", np.int16, 1)])\n",
      "C:\\ProgramData\\Anaconda3\\lib\\site-packages\\tensorboard\\compat\\tensorflow_stub\\dtypes.py:544: FutureWarning: Passing (type, 1) or '1type' as a synonym of type is deprecated; in a future version of numpy, it will be understood as (type, (1,)) / '(1,)type'.\n",
      "  _np_quint16 = np.dtype([(\"quint16\", np.uint16, 1)])\n",
      "C:\\ProgramData\\Anaconda3\\lib\\site-packages\\tensorboard\\compat\\tensorflow_stub\\dtypes.py:545: FutureWarning: Passing (type, 1) or '1type' as a synonym of type is deprecated; in a future version of numpy, it will be understood as (type, (1,)) / '(1,)type'.\n",
      "  _np_qint32 = np.dtype([(\"qint32\", np.int32, 1)])\n",
      "C:\\ProgramData\\Anaconda3\\lib\\site-packages\\tensorboard\\compat\\tensorflow_stub\\dtypes.py:550: FutureWarning: Passing (type, 1) or '1type' as a synonym of type is deprecated; in a future version of numpy, it will be understood as (type, (1,)) / '(1,)type'.\n",
      "  np_resource = np.dtype([(\"resource\", np.ubyte, 1)])\n"
     ]
    }
   ],
   "source": [
    "from tensorflow import keras\n",
    "from tensorflow.keras.datasets import mnist\n",
    "from tensorflow.keras.models import Sequential\n",
    "from tensorflow.keras import layers, optimizers\n",
    "import numpy as np\n",
    "import csv\n",
    "import gc"
   ]
  },
  {
   "cell_type": "code",
   "execution_count": 2,
   "metadata": {},
   "outputs": [
    {
     "data": {
      "text/plain": [
       "22"
      ]
     },
     "execution_count": 2,
     "metadata": {},
     "output_type": "execute_result"
    }
   ],
   "source": [
    "# csvファイルを2次元配列lとして読み込み\n",
    "with open('./data/pn_data.csv', 'r', encoding='utf-8') as f:\n",
    "    reader = csv.reader(f)\n",
    "    l = [row for row in reader]\n",
    "\n",
    "# lの要素をstrからfloatにする\n",
    "tmp1 = []\n",
    "tmp2 = []\n",
    "for i in l:\n",
    "    tmp2 = [float(j) for j in i]\n",
    "    tmp1.append(tmp2)\n",
    "l = tmp1\n",
    "\n",
    "del tmp1, tmp2\n",
    "gc.collect()"
   ]
  },
  {
   "cell_type": "markdown",
   "metadata": {},
   "source": [
    " "
   ]
  },
  {
   "cell_type": "markdown",
   "metadata": {},
   "source": [
    "以下、k分割交差検証をkerasでやるやり方コピペ"
   ]
  },
  {
   "cell_type": "code",
   "execution_count": 3,
   "metadata": {},
   "outputs": [],
   "source": [
    "def build_model(*, i_shape, o_shape):\n",
    "    model=Sequential()\n",
    "    model.add(layers.Dense(1024, activation='relu', input_shape=(i_shape,)))\n",
    "    model.add(layers.BatchNormalization())\n",
    "    model.add(layers.Dropout(0.4))\n",
    "    model.add(layers.Dense(512, activation='relu'))\n",
    "    model.add(layers.BatchNormalization())\n",
    "    model.add(layers.Dropout(0.4))\n",
    "    model.add(layers.Dense(128, activation='relu'))\n",
    "    model.add(layers.BatchNormalization())\n",
    "    model.add(layers.Dropout(0.4))\n",
    "    model.add(layers.Dense(o_shape, activation='softmax'))\n",
    "    #model.summary()\n",
    "    sgd = optimizers.RMSprop(lr=0.001)\n",
    "    model.compile(optimizer=sgd, loss='binary_crossentropy', metrics=['acc'])\n",
    "\n",
    "    return model"
   ]
  },
  {
   "cell_type": "markdown",
   "metadata": {},
   "source": [
    " \n",
    "  "
   ]
  },
  {
   "cell_type": "code",
   "execution_count": 4,
   "metadata": {},
   "outputs": [
    {
     "data": {
      "text/plain": [
       "0"
      ]
     },
     "execution_count": 4,
     "metadata": {},
     "output_type": "execute_result"
    }
   ],
   "source": [
    "data = []\n",
    "#for i in range(len(l)):\n",
    "for i in range(30):        # テスト用！！！！！！！！！！！！！！！！！！！！！！！\n",
    "    data.append(l[i])\n",
    "del l\n",
    "gc.collect()\n",
    "\n",
    "length = []\n",
    "for i in data:\n",
    "    length.append(len(i))\n",
    "max_len = max(length)\n",
    "for i in data:\n",
    "    while len(i) != max_len:\n",
    "        i.append(0)\n",
    "    i = np.array(i)\n",
    "data = np.array(data)\n",
    "del length, max_len\n",
    "gc.collect()"
   ]
  },
  {
   "cell_type": "code",
   "execution_count": 5,
   "metadata": {},
   "outputs": [],
   "source": [
    "with open('./data/score.txt', 'r', encoding='utf-8') as f:\n",
    "    scores = f.read().split('\\n')\n",
    "scores = np.array(scores)\n",
    "score = np.array(scores[scores!=''])\n",
    "del scores\n",
    "gc.collect()\n",
    "\n",
    "# scoreの要素をstrからintにする\n",
    "tmp = [int(i) for i in score]\n",
    "score = tmp\n",
    "del tmp\n",
    "gc.collect()\n",
    "\n",
    "# test用！！！！！！！！！！！！！！！！！！！！！！！！\n",
    "score = score[0:30]\n",
    "\n",
    "score = np.array(score)\n",
    "score = score.reshape([len(score), 1])"
   ]
  },
  {
   "cell_type": "markdown",
   "metadata": {},
   "source": [
    " "
   ]
  },
  {
   "cell_type": "markdown",
   "metadata": {},
   "source": [
    "NPデータで学習"
   ]
  },
  {
   "cell_type": "code",
   "execution_count": 6,
   "metadata": {
    "scrolled": true
   },
   "outputs": [
    {
     "name": "stdout",
     "output_type": "stream",
     "text": [
      "WARNING:tensorflow:From C:\\ProgramData\\Anaconda3\\lib\\site-packages\\tensorflow\\python\\ops\\init_ops.py:1251: calling VarianceScaling.__init__ (from tensorflow.python.ops.init_ops) with dtype is deprecated and will be removed in a future version.\n",
      "Instructions for updating:\n",
      "Call initializer instance with the dtype argument instead of passing it to the constructor\n",
      "WARNING:tensorflow:From C:\\ProgramData\\Anaconda3\\lib\\site-packages\\tensorflow\\python\\ops\\math_grad.py:1250: add_dispatch_support.<locals>.wrapper (from tensorflow.python.ops.array_ops) is deprecated and will be removed in a future version.\n",
      "Instructions for updating:\n",
      "Use tf.where in 2.0, which has the same broadcast rule as np.where\n",
      "Test loss: -1029.35377870757\n",
      "Test accuracy: 0.0057471264\n",
      "\n",
      "\n",
      "Test loss: -1029.35377870757\n",
      "Test accuracy: 0.0057471264\n",
      "\n",
      "\n",
      "Test loss: -1029.35377870757\n",
      "Test accuracy: 0.0057471264\n",
      "\n",
      "\n",
      "loss =  -996.5782697503874\n",
      "val_loss =  -996.559927554741\n",
      "acc =  0.0\n",
      "val_acc =  0.0\n"
     ]
    },
    {
     "data": {
      "text/plain": [
       "0"
      ]
     },
     "execution_count": 6,
     "metadata": {},
     "output_type": "execute_result"
    }
   ],
   "source": [
    "from sklearn.model_selection import KFold\n",
    "from sklearn.model_selection import train_test_split\n",
    "\n",
    "X_train,X_test,Y_train,Y_test = train_test_split(data, score, test_size=0.3)\n",
    "# test_sizeは教師データの割合\n",
    "X_test = np.array(X_test)\n",
    "Y_test = np.array(Y_test)\n",
    "\n",
    "kf = KFold(n_splits=10, shuffle=True)    # n_splits分割交差検証\n",
    "all_loss = []\n",
    "all_val_loss = []\n",
    "all_acc = []\n",
    "all_val_acc = []\n",
    "ep = 300    # 一回分の学習回数\n",
    "\n",
    "for train_index, val_index in kf.split(X_train,Y_train):\n",
    "    train_data = []\n",
    "    train_label = []\n",
    "    val_data = []\n",
    "    val_label = []\n",
    "    for t in train_index:\n",
    "        train_data.append(X_train[t])\n",
    "        train_label.append(Y_train[t])\n",
    "    for v in val_index:\n",
    "        val_data.append(X_train[v])\n",
    "        val_label.append(Y_train[v])\n",
    "    train_data  = np.array(train_data)\n",
    "    train_label = np.array(train_label).reshape(len(train_label), 1)\n",
    "    val_data   = np.array(val_data)\n",
    "    val_label   = np.array(val_label).reshape(len(val_label), 1)\n",
    "\n",
    "    model = build_model(i_shape=len(train_data[0]), o_shape=len(train_label[0]))\n",
    "    history = model.fit(x = train_data,\n",
    "                        y = train_label,\n",
    "                        epochs = ep,\n",
    "                        batch_size = 8,\n",
    "                        verbose = 0,    # 0だとログが出ない, 1だと出る\n",
    "                        validation_data = (val_data, val_label))\n",
    "\n",
    "    loss = history.history['loss']\n",
    "    val_loss = history.history['val_loss']\n",
    "    acc = history.history['acc']\n",
    "    val_acc = history.history['val_acc']\n",
    "\n",
    "    all_loss.append(loss)\n",
    "    all_val_loss.append(val_loss)\n",
    "    all_acc.append(acc)\n",
    "    all_val_acc.append(val_acc)\n",
    "    \n",
    "    test_score = model.evaluate(X_test, Y_test, verbose=0)\n",
    "    print('Test loss:', test_score[0])\n",
    "    print('Test accuracy:', test_score[1])\n",
    "    \n",
    "    print('\\n')\n",
    "\n",
    "del train_data, train_label, val_data, val_label\n",
    "del model, history, test_score\n",
    "del loss, val_loss, acc, val_acc\n",
    "del train_index, val_index\n",
    "del t, v\n",
    "gc.collect()\n",
    "\n",
    "\n",
    "ave_all_loss = np.array([np.mean([x[i] for x in all_loss]) for i in range(ep)])\n",
    "ave_all_val_loss = np.array([np.mean([x[i] for x in all_val_loss]) for i in range(ep)])\n",
    "ave_all_acc = np.array([np.mean([x[i] for x in all_acc]) for i in range(ep)])\n",
    "ave_all_val_acc = np.array([np.mean([x[i] for x in all_val_acc]) for i in range(ep)])\n",
    "del all_loss, all_val_loss, all_acc, all_val_acc\n",
    "gc.collect()\n",
    "\n",
    "print('loss = ', np.mean(ave_all_loss))\n",
    "print('val_loss = ', np.mean(ave_all_val_loss))\n",
    "print('acc = ', np.mean(ave_all_acc))\n",
    "print('val_acc = ', np.mean(ave_all_val_acc))\n",
    "\n",
    "np_result = {'loss':np.mean(ave_all_loss),\n",
    "             'val_loss':np.mean(ave_all_val_loss),\n",
    "             'acc':np.mean(ave_all_acc),\n",
    "             'val_acc':np.mean(ave_all_val_acc)}\n",
    "del ave_all_loss, ave_all_val_loss, ave_all_acc, ave_all_val_acc\n",
    "gc.collect()"
   ]
  },
  {
   "cell_type": "markdown",
   "metadata": {},
   "source": [
    " "
   ]
  },
  {
   "cell_type": "markdown",
   "metadata": {},
   "source": [
    "カタルシス1 `= ave_n * ave_p`"
   ]
  },
  {
   "cell_type": "code",
   "execution_count": 7,
   "metadata": {
    "scrolled": true
   },
   "outputs": [
    {
     "ename": "ResourceExhaustedError",
     "evalue": "OOM when allocating tensor with shape[434481,1024] and type float on /job:localhost/replica:0/task:0/device:CPU:0 by allocator cpu\n\t [[{{node RMSprop_3/RMSprop/update_dense_12/kernel/Square}}]]\nHint: If you want to see a list of allocated tensors when OOM happens, add report_tensor_allocations_upon_oom to RunOptions for current allocation info.\n",
     "output_type": "error",
     "traceback": [
      "\u001b[1;31m----------------------------------------------------------------------\u001b[0m",
      "\u001b[1;31mResourceExhaustedError\u001b[0m               Traceback (most recent call last)",
      "\u001b[1;32m<ipython-input-7-ec72f800bc71>\u001b[0m in \u001b[0;36m<module>\u001b[1;34m\u001b[0m\n\u001b[0;32m     80\u001b[0m                         \u001b[0mbatch_size\u001b[0m \u001b[1;33m=\u001b[0m \u001b[1;36m8\u001b[0m\u001b[1;33m,\u001b[0m\u001b[1;33m\u001b[0m\u001b[1;33m\u001b[0m\u001b[0m\n\u001b[0;32m     81\u001b[0m                         \u001b[0mverbose\u001b[0m \u001b[1;33m=\u001b[0m \u001b[1;36m0\u001b[0m\u001b[1;33m,\u001b[0m    \u001b[1;31m# 0だとログが出ない, 1だと出る\u001b[0m\u001b[1;33m\u001b[0m\u001b[1;33m\u001b[0m\u001b[0m\n\u001b[1;32m---> 82\u001b[1;33m                         validation_data = (val_data, val_label))\n\u001b[0m\u001b[0;32m     83\u001b[0m \u001b[1;33m\u001b[0m\u001b[0m\n\u001b[0;32m     84\u001b[0m     \u001b[0mloss\u001b[0m \u001b[1;33m=\u001b[0m \u001b[0mhistory\u001b[0m\u001b[1;33m.\u001b[0m\u001b[0mhistory\u001b[0m\u001b[1;33m[\u001b[0m\u001b[1;34m'loss'\u001b[0m\u001b[1;33m]\u001b[0m\u001b[1;33m\u001b[0m\u001b[1;33m\u001b[0m\u001b[0m\n",
      "\u001b[1;32mC:\\ProgramData\\Anaconda3\\lib\\site-packages\\tensorflow\\python\\keras\\engine\\training.py\u001b[0m in \u001b[0;36mfit\u001b[1;34m(self, x, y, batch_size, epochs, verbose, callbacks, validation_split, validation_data, shuffle, class_weight, sample_weight, initial_epoch, steps_per_epoch, validation_steps, validation_freq, max_queue_size, workers, use_multiprocessing, **kwargs)\u001b[0m\n\u001b[0;32m    778\u001b[0m           \u001b[0mvalidation_steps\u001b[0m\u001b[1;33m=\u001b[0m\u001b[0mvalidation_steps\u001b[0m\u001b[1;33m,\u001b[0m\u001b[1;33m\u001b[0m\u001b[1;33m\u001b[0m\u001b[0m\n\u001b[0;32m    779\u001b[0m           \u001b[0mvalidation_freq\u001b[0m\u001b[1;33m=\u001b[0m\u001b[0mvalidation_freq\u001b[0m\u001b[1;33m,\u001b[0m\u001b[1;33m\u001b[0m\u001b[1;33m\u001b[0m\u001b[0m\n\u001b[1;32m--> 780\u001b[1;33m           steps_name='steps_per_epoch')\n\u001b[0m\u001b[0;32m    781\u001b[0m \u001b[1;33m\u001b[0m\u001b[0m\n\u001b[0;32m    782\u001b[0m   def evaluate(self,\n",
      "\u001b[1;32mC:\\ProgramData\\Anaconda3\\lib\\site-packages\\tensorflow\\python\\keras\\engine\\training_arrays.py\u001b[0m in \u001b[0;36mmodel_iteration\u001b[1;34m(model, inputs, targets, sample_weights, batch_size, epochs, verbose, callbacks, val_inputs, val_targets, val_sample_weights, shuffle, initial_epoch, steps_per_epoch, validation_steps, validation_freq, mode, validation_in_fit, prepared_feed_values_from_dataset, steps_name, **kwargs)\u001b[0m\n\u001b[0;32m    361\u001b[0m \u001b[1;33m\u001b[0m\u001b[0m\n\u001b[0;32m    362\u001b[0m         \u001b[1;31m# Get outputs.\u001b[0m\u001b[1;33m\u001b[0m\u001b[1;33m\u001b[0m\u001b[1;33m\u001b[0m\u001b[0m\n\u001b[1;32m--> 363\u001b[1;33m         \u001b[0mbatch_outs\u001b[0m \u001b[1;33m=\u001b[0m \u001b[0mf\u001b[0m\u001b[1;33m(\u001b[0m\u001b[0mins_batch\u001b[0m\u001b[1;33m)\u001b[0m\u001b[1;33m\u001b[0m\u001b[1;33m\u001b[0m\u001b[0m\n\u001b[0m\u001b[0;32m    364\u001b[0m         \u001b[1;32mif\u001b[0m \u001b[1;32mnot\u001b[0m \u001b[0misinstance\u001b[0m\u001b[1;33m(\u001b[0m\u001b[0mbatch_outs\u001b[0m\u001b[1;33m,\u001b[0m \u001b[0mlist\u001b[0m\u001b[1;33m)\u001b[0m\u001b[1;33m:\u001b[0m\u001b[1;33m\u001b[0m\u001b[1;33m\u001b[0m\u001b[0m\n\u001b[0;32m    365\u001b[0m           \u001b[0mbatch_outs\u001b[0m \u001b[1;33m=\u001b[0m \u001b[1;33m[\u001b[0m\u001b[0mbatch_outs\u001b[0m\u001b[1;33m]\u001b[0m\u001b[1;33m\u001b[0m\u001b[1;33m\u001b[0m\u001b[0m\n",
      "\u001b[1;32mC:\\ProgramData\\Anaconda3\\lib\\site-packages\\tensorflow\\python\\keras\\backend.py\u001b[0m in \u001b[0;36m__call__\u001b[1;34m(self, inputs)\u001b[0m\n\u001b[0;32m   3290\u001b[0m \u001b[1;33m\u001b[0m\u001b[0m\n\u001b[0;32m   3291\u001b[0m     fetched = self._callable_fn(*array_vals,\n\u001b[1;32m-> 3292\u001b[1;33m                                 run_metadata=self.run_metadata)\n\u001b[0m\u001b[0;32m   3293\u001b[0m     \u001b[0mself\u001b[0m\u001b[1;33m.\u001b[0m\u001b[0m_call_fetch_callbacks\u001b[0m\u001b[1;33m(\u001b[0m\u001b[0mfetched\u001b[0m\u001b[1;33m[\u001b[0m\u001b[1;33m-\u001b[0m\u001b[0mlen\u001b[0m\u001b[1;33m(\u001b[0m\u001b[0mself\u001b[0m\u001b[1;33m.\u001b[0m\u001b[0m_fetches\u001b[0m\u001b[1;33m)\u001b[0m\u001b[1;33m:\u001b[0m\u001b[1;33m]\u001b[0m\u001b[1;33m)\u001b[0m\u001b[1;33m\u001b[0m\u001b[1;33m\u001b[0m\u001b[0m\n\u001b[0;32m   3294\u001b[0m     output_structure = nest.pack_sequence_as(\n",
      "\u001b[1;32mC:\\ProgramData\\Anaconda3\\lib\\site-packages\\tensorflow\\python\\client\\session.py\u001b[0m in \u001b[0;36m__call__\u001b[1;34m(self, *args, **kwargs)\u001b[0m\n\u001b[0;32m   1456\u001b[0m         ret = tf_session.TF_SessionRunCallable(self._session._session,\n\u001b[0;32m   1457\u001b[0m                                                \u001b[0mself\u001b[0m\u001b[1;33m.\u001b[0m\u001b[0m_handle\u001b[0m\u001b[1;33m,\u001b[0m \u001b[0margs\u001b[0m\u001b[1;33m,\u001b[0m\u001b[1;33m\u001b[0m\u001b[1;33m\u001b[0m\u001b[0m\n\u001b[1;32m-> 1458\u001b[1;33m                                                run_metadata_ptr)\n\u001b[0m\u001b[0;32m   1459\u001b[0m         \u001b[1;32mif\u001b[0m \u001b[0mrun_metadata\u001b[0m\u001b[1;33m:\u001b[0m\u001b[1;33m\u001b[0m\u001b[1;33m\u001b[0m\u001b[0m\n\u001b[0;32m   1460\u001b[0m           \u001b[0mproto_data\u001b[0m \u001b[1;33m=\u001b[0m \u001b[0mtf_session\u001b[0m\u001b[1;33m.\u001b[0m\u001b[0mTF_GetBuffer\u001b[0m\u001b[1;33m(\u001b[0m\u001b[0mrun_metadata_ptr\u001b[0m\u001b[1;33m)\u001b[0m\u001b[1;33m\u001b[0m\u001b[1;33m\u001b[0m\u001b[0m\n",
      "\u001b[1;31mResourceExhaustedError\u001b[0m: OOM when allocating tensor with shape[434481,1024] and type float on /job:localhost/replica:0/task:0/device:CPU:0 by allocator cpu\n\t [[{{node RMSprop_3/RMSprop/update_dense_12/kernel/Square}}]]\nHint: If you want to see a list of allocated tensors when OOM happens, add report_tensor_allocations_upon_oom to RunOptions for current allocation info.\n"
     ]
    }
   ],
   "source": [
    "catharsis1 = []\n",
    "fun_array = []\n",
    "for d in data:\n",
    "    fun = 0\n",
    "    n = 0\n",
    "    p = 0\n",
    "    i = 0\n",
    "    t = 0\n",
    "    p_counter = 0\n",
    "    while i < len(d):\n",
    "        if d[i] < 0:\n",
    "            t += 1\n",
    "            n += d[i]\n",
    "            fun_array.append(0)\n",
    "            i += 1\n",
    "        elif d[i] > 0:\n",
    "            while i+p_counter < len(d) and d[i+p_counter] > 0:\n",
    "                p += d[i+p_counter]\n",
    "                p_counter += 1\n",
    "            i += p_counter\n",
    "            if t == 0:\n",
    "                fun = 0\n",
    "            else:\n",
    "                fun = (n/t) * (p/p_counter)\n",
    "            fun_array.append(fun)\n",
    "            while p_counter > 1:\n",
    "                fun_array.append(0)\n",
    "                p_counter += -1\n",
    "            n = 0\n",
    "            p = 0\n",
    "            t = 0\n",
    "            p_counter = 0\n",
    "        else:\n",
    "            fun_array.append(0)\n",
    "            i += 1\n",
    "    catharsis1.append(fun_array)\n",
    "\n",
    "del fun_array, d, fun, n, p, i, t, p_counter\n",
    "gc.collect()\n",
    "\n",
    "\n",
    "\n",
    "\n",
    "\n",
    "from sklearn.model_selection import KFold\n",
    "from sklearn.model_selection import train_test_split\n",
    "\n",
    "X_train,X_test,Y_train,Y_test = train_test_split(catharsis1, score, test_size=0.2)\n",
    "# test_sizeは教師データの割合\n",
    "X_test = np.array(X_test)\n",
    "Y_test = np.array(Y_test)\n",
    "\n",
    "kf = KFold(n_splits=10, shuffle=True)    # n_splits分割交差検証\n",
    "all_loss = []\n",
    "all_val_loss = []\n",
    "all_acc = []\n",
    "all_val_acc = []\n",
    "ep = 300    # 一回分の学習回数\n",
    "\n",
    "for train_index, val_index in kf.split(X_train,Y_train):\n",
    "    train_data = []\n",
    "    train_label = []\n",
    "    val_data = []\n",
    "    val_label = []\n",
    "    for t in train_index:\n",
    "        train_data.append(X_train[t])\n",
    "        train_label.append(Y_train[t])\n",
    "    for v in val_index:\n",
    "        val_data.append(X_train[v])\n",
    "        val_label.append(Y_train[v])\n",
    "    train_data  = np.array(train_data)\n",
    "    train_label = np.array(train_label).reshape(len(train_label), 1)\n",
    "    val_data   = np.array(val_data)\n",
    "    val_label   = np.array(val_label).reshape(len(val_label), 1)\n",
    "\n",
    "    model = build_model(i_shape=len(train_data[0]), o_shape=len(train_label[0]))\n",
    "    history = model.fit(x = train_data,\n",
    "                        y = train_label,\n",
    "                        epochs = ep,\n",
    "                        batch_size = 8,\n",
    "                        verbose = 0,    # 0だとログが出ない, 1だと出る\n",
    "                        validation_data = (val_data, val_label))\n",
    "\n",
    "    loss = history.history['loss']\n",
    "    val_loss = history.history['val_loss']\n",
    "    acc = history.history['acc']\n",
    "    val_acc = history.history['val_acc']\n",
    "\n",
    "    all_loss.append(loss)\n",
    "    all_val_loss.append(val_loss)\n",
    "    all_acc.append(acc)\n",
    "    all_val_acc.append(val_acc)\n",
    "    \n",
    "    test_score = model.evaluate(X_test, Y_test, verbose=0)\n",
    "    print('Test loss:', test_score[0])\n",
    "    print('Test accuracy:', test_score[1])\n",
    "    \n",
    "    print('\\n')\n",
    "\n",
    "del train_data, train_label, val_data, val_label\n",
    "del model, history, test_score\n",
    "del loss, val_loss, acc, val_acc\n",
    "del train_index, val_index\n",
    "del t, v\n",
    "gc.collect()\n",
    "\n",
    "\n",
    "ave_all_loss = np.array([np.mean([x[i] for x in all_loss]) for i in range(ep)])\n",
    "ave_all_val_loss = np.array([np.mean([x[i] for x in all_val_loss]) for i in range(ep)])\n",
    "ave_all_acc = np.array([np.mean([x[i] for x in all_acc]) for i in range(ep)])\n",
    "ave_all_val_acc = np.array([np.mean([x[i] for x in all_val_acc]) for i in range(ep)])\n",
    "del all_loss, all_val_loss, all_acc, all_val_acc\n",
    "gc.collect()\n",
    "\n",
    "print('loss = ', np.mean(ave_all_loss))\n",
    "print('val_loss = ', np.mean(ave_all_val_loss))\n",
    "print('acc = ', np.mean(ave_all_acc))\n",
    "print('val_acc = ', np.mean(ave_all_val_acc))\n",
    "\n",
    "kata1 = {'loss':np.mean(ave_all_loss),\n",
    "         'val_loss':np.mean(ave_all_val_loss),\n",
    "         'acc':np.mean(ave_all_acc),\n",
    "         'val_acc':np.mean(ave_all_val_acc)}\n",
    "del ave_all_loss, ave_all_val_loss, ave_all_acc, ave_all_val_acc\n",
    "gc.collect()"
   ]
  },
  {
   "cell_type": "markdown",
   "metadata": {},
   "source": [
    " "
   ]
  },
  {
   "cell_type": "markdown",
   "metadata": {},
   "source": [
    "カタルシス2 = ave_n + ave_p"
   ]
  },
  {
   "cell_type": "code",
   "execution_count": null,
   "metadata": {},
   "outputs": [],
   "source": [
    "catharsis1 = []\n",
    "fun_array = []\n",
    "for d in data:\n",
    "    fun = 0\n",
    "    n = 0\n",
    "    p = 0\n",
    "    i = 0\n",
    "    t = 0\n",
    "    p_counter = 0\n",
    "    while i < len(d):\n",
    "        if d[i] < 0:\n",
    "            t += 1\n",
    "            n += d[i]\n",
    "            fun_array.append(0)\n",
    "            i += 1\n",
    "        elif d[i] > 0:\n",
    "            while i+p_counter < len(d) and d[i+p_counter] > 0:\n",
    "                p += d[i+p_counter]\n",
    "                p_counter += 1\n",
    "            i += p_counter\n",
    "            if t == 0:\n",
    "                fun = 0\n",
    "            else:\n",
    "                fun = (n/t) + (p/p_counter)\n",
    "            fun_array.append(fun)\n",
    "            while p_counter > 1:\n",
    "                fun_array.append(0)\n",
    "                p_counter += -1\n",
    "            n = 0\n",
    "            p = 0\n",
    "            t = 0\n",
    "            p_counter = 0\n",
    "        else:\n",
    "            fun_array.append(0)\n",
    "            i += 1\n",
    "    catharsis1.append(fun_array)\n",
    "\n",
    "del fun_array, d, fun, n, p, i, t, p_counter\n",
    "gc.collect()\n",
    "\n",
    "\n",
    "\n",
    "\n",
    "\n",
    "from sklearn.model_selection import KFold\n",
    "from sklearn.model_selection import train_test_split\n",
    "\n",
    "X_train,X_test,Y_train,Y_test = train_test_split(catharsis1, score, test_size=0.2)\n",
    "# test_sizeは教師データの割合\n",
    "X_test = np.array(X_test)\n",
    "Y_test = np.array(Y_test)\n",
    "\n",
    "kf = KFold(n_splits=10, shuffle=True)    # n_splits分割交差検証\n",
    "all_loss = []\n",
    "all_val_loss = []\n",
    "all_acc = []\n",
    "all_val_acc = []\n",
    "ep = 300    # 一回分の学習回数\n",
    "\n",
    "for train_index, val_index in kf.split(X_train,Y_train):\n",
    "    train_data = []\n",
    "    train_label = []\n",
    "    val_data = []\n",
    "    val_label = []\n",
    "    for t in train_index:\n",
    "        train_data.append(X_train[t])\n",
    "        train_label.append(Y_train[t])\n",
    "    for v in val_index:\n",
    "        val_data.append(X_train[v])\n",
    "        val_label.append(Y_train[v])\n",
    "    train_data  = np.array(train_data)\n",
    "    train_label = np.array(train_label).reshape(len(train_label), 1)\n",
    "    val_data   = np.array(val_data)\n",
    "    val_label   = np.array(val_label).reshape(len(val_label), 1)\n",
    "\n",
    "    model = build_model(i_shape=len(train_data[0]), o_shape=len(train_label[0]))\n",
    "    history = model.fit(x = train_data,\n",
    "                        y = train_label,\n",
    "                        epochs = ep,\n",
    "                        batch_size = 8,\n",
    "                        verbose = 0,    # 0だとログが出ない, 1だと出る\n",
    "                        validation_data = (val_data, val_label))\n",
    "\n",
    "    loss = history.history['loss']\n",
    "    val_loss = history.history['val_loss']\n",
    "    acc = history.history['acc']\n",
    "    val_acc = history.history['val_acc']\n",
    "\n",
    "    all_loss.append(loss)\n",
    "    all_val_loss.append(val_loss)\n",
    "    all_acc.append(acc)\n",
    "    all_val_acc.append(val_acc)\n",
    "    \n",
    "    test_score = model.evaluate(X_test, Y_test, verbose=0)\n",
    "    print('Test loss:', test_score[0])\n",
    "    print('Test accuracy:', test_score[1])\n",
    "    \n",
    "    print('\\n')\n",
    "\n",
    "del train_data, train_label, val_data, val_label\n",
    "del model, history, test_score\n",
    "del loss, val_loss, acc, val_acc\n",
    "del train_index, val_index\n",
    "del t, v\n",
    "gc.collect()\n",
    "\n",
    "\n",
    "ave_all_loss = np.array([np.mean([x[i] for x in all_loss]) for i in range(ep)])\n",
    "ave_all_val_loss = np.array([np.mean([x[i] for x in all_val_loss]) for i in range(ep)])\n",
    "ave_all_acc = np.array([np.mean([x[i] for x in all_acc]) for i in range(ep)])\n",
    "ave_all_val_acc = np.array([np.mean([x[i] for x in all_val_acc]) for i in range(ep)])\n",
    "del all_loss, all_val_loss, all_acc, all_val_acc\n",
    "gc.collect()\n",
    "\n",
    "print('loss = ', np.mean(ave_all_loss))\n",
    "print('val_loss = ', np.mean(ave_all_val_loss))\n",
    "print('acc = ', np.mean(ave_all_acc))\n",
    "print('val_acc = ', np.mean(ave_all_val_acc))\n",
    "\n",
    "kata2 = {'loss':np.mean(ave_all_loss),\n",
    "         'val_loss':np.mean(ave_all_val_loss),\n",
    "         'acc':np.mean(ave_all_acc),\n",
    "         'val_acc':np.mean(ave_all_val_acc)}\n",
    "del ave_all_loss, ave_all_val_loss, ave_all_acc, ave_all_val_acc\n",
    "gc.collect()"
   ]
  },
  {
   "cell_type": "markdown",
   "metadata": {},
   "source": [
    " "
   ]
  },
  {
   "cell_type": "markdown",
   "metadata": {},
   "source": [
    "カタルシス3 = sum_n * sum_p"
   ]
  },
  {
   "cell_type": "code",
   "execution_count": null,
   "metadata": {},
   "outputs": [],
   "source": []
  },
  {
   "cell_type": "markdown",
   "metadata": {},
   "source": [
    " "
   ]
  },
  {
   "cell_type": "markdown",
   "metadata": {},
   "source": [
    "カタルシス4 = sum_n + sum_p"
   ]
  },
  {
   "cell_type": "code",
   "execution_count": null,
   "metadata": {},
   "outputs": [],
   "source": []
  },
  {
   "cell_type": "markdown",
   "metadata": {},
   "source": [
    " "
   ]
  },
  {
   "cell_type": "markdown",
   "metadata": {},
   "source": [
    "カタルシス5 `= t * n + p`"
   ]
  },
  {
   "cell_type": "code",
   "execution_count": null,
   "metadata": {},
   "outputs": [],
   "source": []
  },
  {
   "cell_type": "markdown",
   "metadata": {},
   "source": [
    " "
   ]
  },
  {
   "cell_type": "markdown",
   "metadata": {},
   "source": [
    "カタルシス6 `= b * (t * n + p)`"
   ]
  },
  {
   "cell_type": "code",
   "execution_count": null,
   "metadata": {},
   "outputs": [],
   "source": []
  },
  {
   "cell_type": "markdown",
   "metadata": {},
   "source": [
    " "
   ]
  },
  {
   "cell_type": "code",
   "execution_count": null,
   "metadata": {},
   "outputs": [],
   "source": [
    "#np_ersult\n",
    "#kata1\n",
    "#kata2\n",
    "#kata3\n",
    "#kata4\n",
    "#kata5\n",
    "#kata6"
   ]
  }
 ],
 "metadata": {
  "kernelspec": {
   "display_name": "Python 3",
   "language": "python",
   "name": "python3"
  },
  "language_info": {
   "codemirror_mode": {
    "name": "ipython",
    "version": 3
   },
   "file_extension": ".py",
   "mimetype": "text/x-python",
   "name": "python",
   "nbconvert_exporter": "python",
   "pygments_lexer": "ipython3",
   "version": "3.7.7"
  }
 },
 "nbformat": 4,
 "nbformat_minor": 4
}
