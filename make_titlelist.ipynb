{
 "cells": [
  {
   "cell_type": "code",
   "execution_count": 1,
   "metadata": {},
   "outputs": [],
   "source": [
    "import requests\n",
    "from bs4 import BeautifulSoup\n",
    "import re\n",
    "\n",
    "urlName = \"https://www.imsdb.com/all%20scripts/\"\n",
    "url = requests.get(urlName)\n",
    "soup = BeautifulSoup(url.content, \"html.parser\")"
   ]
  },
  {
   "cell_type": "code",
   "execution_count": 2,
   "metadata": {},
   "outputs": [],
   "source": [
    "def make_tomato_title(title):\n",
    "    tomato_title = ''\n",
    "    for i in range(len(title)):\n",
    "        if title[i] == '\\n':\n",
    "            continue\n",
    "        elif title[i] == ' ':\n",
    "            tomato_title += '_'\n",
    "        elif re.match('[A-Z]', title[i]) != None:\n",
    "            tomato_title += chr(ord(title[i])+32)\n",
    "        else:\n",
    "            tomato_title += title[i]\n",
    "    tomato_url = 'https://www.rottentomatoes.com/m/' + tomato_title\n",
    "    return tomato_url"
   ]
  },
  {
   "cell_type": "code",
   "execution_count": 3,
   "metadata": {},
   "outputs": [],
   "source": [
    "titles = soup.find_all('a', href=re.compile('/Movie Scripts/[^\\.]*.html'), title=re.compile('.*'))"
   ]
  },
  {
   "cell_type": "code",
   "execution_count": 4,
   "metadata": {},
   "outputs": [],
   "source": [
    "# rotten tomatoに掲載されている作品のみtitle配列に格納\n",
    "# ついでにrotten tomatoのスコアも保存\n",
    "\n",
    "import time\n",
    "\n",
    "title = []\n",
    "tomato_score = []\n",
    "\n",
    "for i in range(len(titles)):\n",
    "#for i in range(5):\n",
    "    tomato_url = make_tomato_title(titles[i].text)\n",
    "    \n",
    "    url = requests.get(tomato_url)\n",
    "    soup = BeautifulSoup(url.content, \"html.parser\")\n",
    "    span = soup.find_all(\"span\", class_='mop-ratings-wrap__percentage')\n",
    "    \n",
    "    if len(span) != 0:\n",
    "        tomato_score.append(re.findall('([0-9]+)', span[0].text)[0])\n",
    "        title.append(titles[i].text + '\\n')\n",
    "    time.sleep(2)\n",
    "\n",
    "#print(title, '\\n\\n', tomato_score)"
   ]
  },
  {
   "cell_type": "code",
   "execution_count": null,
   "metadata": {},
   "outputs": [],
   "source": [
    "with open('./title/title.txt', mode='w', encoding='utf-8') as f:\n",
    "    f.writelines(title)\n",
    "with open('./title/score.txt', mode='w', encoding='utf-8') as f:\n",
    "    f.writelines(tomato_score)"
   ]
  },
  {
   "cell_type": "code",
   "execution_count": 15,
   "metadata": {},
   "outputs": [],
   "source": [
    "with open('./title/title.txt', mode='r', encoding='utf-8') as f:\n",
    "    title = f.read().split('\\n')\n",
    "\n",
    "tomato_score = ''\n",
    "\n",
    "for t in title:\n",
    "    tomato_url = make_tomato_title(t)    \n",
    "    url = requests.get(tomato_url)\n",
    "    soup = BeautifulSoup(url.content, \"html.parser\")\n",
    "    span = soup.find_all(\"span\", class_='mop-ratings-wrap__percentage')\n",
    "\n",
    "    \n",
    "    score = ''\n",
    "    if len(span) != 0:\n",
    "        score += re.findall('([0-9]+)', span[0].text)[0]\n",
    "    score += '\\n'\n",
    "    tomato_score += score\n",
    "\n",
    "    time.sleep(2)\n",
    "\n",
    "with open('./title/score.txt', mode='w', encoding='utf-8') as f:\n",
    "    f.writelines(tomato_score)"
   ]
  },
  {
   "cell_type": "markdown",
   "metadata": {},
   "source": [
    " "
   ]
  },
  {
   "cell_type": "code",
   "execution_count": 19,
   "metadata": {},
   "outputs": [],
   "source": [
    "with open('./title/no_tomato.txt', mode='r', encoding='utf-8') as f:\n",
    "    no_tomato = f.read().split('\\n')"
   ]
  },
  {
   "cell_type": "code",
   "execution_count": 30,
   "metadata": {},
   "outputs": [],
   "source": [
    "add_titles = ''\n",
    "add_scores = ''\n",
    "for i in no_tomato:\n",
    "    add = re.findall('(.*)\\s/\\s([^\\n]*)', i)\n",
    "    if len(add) != 0:\n",
    "        add_titles += add[0][0]\n",
    "        add_titles += '\\n'\n",
    "        add_scores += add[0][1]\n",
    "        add_scores += '\\n'"
   ]
  },
  {
   "cell_type": "code",
   "execution_count": 32,
   "metadata": {},
   "outputs": [],
   "source": [
    "with open('./title/add_title.txt', mode='w', encoding='utf-8') as f:\n",
    "    f.writelines(add_titles)\n",
    "with open('./title/add_score.txt', mode='w', encoding='utf-8') as f:\n",
    "    f.writelines(add_scores)"
   ]
  },
  {
   "cell_type": "markdown",
   "metadata": {},
   "source": [
    " \n"
   ]
  },
  {
   "cell_type": "code",
   "execution_count": 79,
   "metadata": {},
   "outputs": [],
   "source": [
    "def make_title(title):\n",
    "    imsdb_title = ''\n",
    "    for i in range(len(title)):\n",
    "        if title[i]=='\\n' or title[i]==':':\n",
    "            continue\n",
    "        elif title[i] == ' ':\n",
    "            imsdb_title += '-'\n",
    "        else:\n",
    "            imsdb_title += title[i]\n",
    "    IMSDb_url = 'https://www.imsdb.com/scripts/' + imsdb_title + '.html'\n",
    "    \n",
    "    wiki_title = ''\n",
    "    for i in range(len(title)):\n",
    "        if title[i] == ' ':\n",
    "            wiki_title += '_'\n",
    "        else:\n",
    "            wiki_title += title[i]\n",
    "    wikipedia_url = 'https://en.wikipedia.org/wiki/' + wiki_title\n",
    "\n",
    "    print(IMSDb_url)\n",
    "    print(wikipedia_url)"
   ]
  },
  {
   "cell_type": "code",
   "execution_count": 217,
   "metadata": {},
   "outputs": [],
   "source": [
    "with open('./title/title.txt', 'r', encoding='utf-8') as f:\n",
    "    titles = f.read().split('\\n')\n",
    "i = 82"
   ]
  },
  {
   "cell_type": "code",
   "execution_count": 241,
   "metadata": {},
   "outputs": [
    {
     "name": "stdout",
     "output_type": "stream",
     "text": [
      "No. 105\n",
      "https://www.imsdb.com/scripts/Body-of-Evidence.html\n",
      "https://en.wikipedia.org/wiki/Body_of_Evidence\n",
      "https://www.rottentomatoes.com/m/body_of_evidence\n"
     ]
    }
   ],
   "source": [
    "print('No.', i)\n",
    "make_title(titles[i-1])\n",
    "print(make_tomato_title(titles[i-1]))\n",
    "i += 1"
   ]
  },
  {
   "cell_type": "code",
   "execution_count": null,
   "metadata": {},
   "outputs": [],
   "source": []
  }
 ],
 "metadata": {
  "kernelspec": {
   "display_name": "Python 3",
   "language": "python",
   "name": "python3"
  },
  "language_info": {
   "codemirror_mode": {
    "name": "ipython",
    "version": 3
   },
   "file_extension": ".py",
   "mimetype": "text/x-python",
   "name": "python",
   "nbconvert_exporter": "python",
   "pygments_lexer": "ipython3",
   "version": "3.6.12"
  }
 },
 "nbformat": 4,
 "nbformat_minor": 4
}
